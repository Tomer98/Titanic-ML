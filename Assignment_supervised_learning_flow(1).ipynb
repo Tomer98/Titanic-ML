{
 "cells": [
  {
   "cell_type": "markdown",
   "id": "ec202ada",
   "metadata": {},
   "source": [
    "# Assignment - Supervised Learning flow"
   ]
  },
  {
   "cell_type": "markdown",
   "id": "b06a2810",
   "metadata": {},
   "source": [
    "# Part 1(a) Student details:\n",
    "* Please write the First-Name, First letter of Last-Name and last 4 digits of the i.d. for each student. "
   ]
  },
  {
   "cell_type": "code",
   "execution_count": null,
   "id": "ca16486b",
   "metadata": {},
   "outputs": [],
   "source": [
    "# stundent details example: John S. 9812\n",
    "#                       Tomer B 9317: \n",
    "# (if exists)           student details 2: \n",
    "# (if exists)           student details 3: \n",
    "# (if exists)           student details 4: "
   ]
  },
  {
   "cell_type": "markdown",
   "id": "abb64166-b32e-4b86-a7ee-84106c8b3a92",
   "metadata": {},
   "source": [
    "## Part 1(b) - Chat-GPT/other AI-agent/other assistance used:\n",
    "* If you changed the prompt until you got a satisfying answer, please add all versions\n",
    "* don't delete \"pre\" tags, so new-line is supported\n",
    "* double click the following markdown cell to change\n",
    "* press shift+enter to view\n",
    "* Add information:"
   ]
  },
  {
   "cell_type": "markdown",
   "id": "ea93f0d3-7aa1-4a95-b084-395f5f7c6c0c",
   "metadata": {},
   "source": [
    "#### Add information in this Markdown cell (double click to change, shift-enter to view)\n",
    "<pre>   \n",
    "AI agent name: ChatGPT\n",
    "Goal: visual clarity and efficiency\n",
    "Propmpt1:\n",
    "    \n",
    "Propmpt2:\n",
    "    \n",
    "Propmpt3: \n",
    "\n",
    "\n",
    "AI agent name 2:\n",
    "Goal:\n",
    "Propmpt1:\n",
    "    \n",
    "Propmpt2:\n",
    "    \n",
    "Propmpt3: \n",
    "\n",
    "Other assistanse:    \n",
    "</pre>"
   ]
  },
  {
   "cell_type": "markdown",
   "id": "0e4fbaab-e5a5-40ed-be0f-9a2cb7931a4b",
   "metadata": {},
   "source": [
    "## Part 1(c) - Learning Problem and dataset explaination.\n",
    "* Please explain in one paragraph\n",
    "* don't delete \"pre\" tags, so new-line is supported\n",
    "* double click the following markdown cell to change\n",
    "* press shift+enter to view\n",
    "* Add explaining text:"
   ]
  },
  {
   "cell_type": "markdown",
   "id": "dd8565df-2778-4b89-83bd-6b227063789f",
   "metadata": {},
   "source": [
    "#### Add information in this Markdown cell (double click to change, shift-enter to view)\n",
    "<pre>\n",
    "# Titanic - Supervised Learning Flow\n",
    "\n",
    "מחברת זו ממלאת את מבנה המטלה:\n",
    "\n",
    "- הקדמה וקבצי סטודנט\n",
    "- טעינה ו-EDA\n",
    "- Feature engineering\n",
    "- Grid search עם 5-fold CV על LogisticRegression ו-RandomForest\n",
    "- בחירה של המודל הטוב ביותר והערכה על holdout test\n",
    "\n",
    "המחברת נכתבה אוטומטית על ידי סקריפט תחזיק/י עריכה במידה ונדרש.\n",
    "    \n",
    "</pre>"
   ]
  },
  {
   "cell_type": "markdown",
   "id": "df67c2ee-87c8-499c-a04f-1853c332f51d",
   "metadata": {},
   "source": [
    "## Part 2 - Initial Preparations \n",
    "You could add as many code cells as needed"
   ]
  },
  {
   "cell_type": "code",
   "execution_count": null,
   "id": "b29b3454-b568-4614-8017-f15b3c59fc55",
   "metadata": {},
   "outputs": [],
   "source": [
    "# Imports\n",
    "import pandas as pd\n",
    "import numpy as np\n",
    "from sklearn.model_selection import train_test_split, StratifiedKFold, GridSearchCV\n",
    "from sklearn.pipeline import Pipeline\n",
    "from sklearn.impute import SimpleImputer\n",
    "from sklearn.preprocessing import OneHotEncoder, StandardScaler\n",
    "from sklearn.compose import ColumnTransformer\n",
    "from sklearn.linear_model import LogisticRegression\n",
    "from sklearn.ensemble import RandomForestClassifier\n",
    "from sklearn.metrics import classification_report, confusion_matrix, accuracy_score, precision_score, recall_score, f1_score\n",
    "import matplotlib.pyplot as plt\n",
    "%matplotlib inline\n"
   ]
  },
  {
   "cell_type": "code",
   "execution_count": null,
   "id": "4b47fe56-d611-4b28-be92-673db4d56400",
   "metadata": {},
   "outputs": [],
   "source": [
    "# Load dataset (uploaded file 'titanic_test.csv')\n",
    "df = pd.read_csv('/mnt/data/titanic_test.csv')\n",
    "df.head()"
   ]
  },
  {
   "cell_type": "code",
   "execution_count": null,
   "id": "53e27610-b640-4db0-80c9-789b5f5fae58",
   "metadata": {},
   "outputs": [],
   "source": [
    "# Basic info\n",
    "print('Shape:', df.shape)\n",
    "print('\\nColumns:', df.columns.tolist())\n",
    "print('\\nMissing values:\\n', df.isna().sum())"
   ]
  },
  {
   "cell_type": "code",
   "execution_count": null,
   "id": "5e584e7f",
   "metadata": {},
   "outputs": [],
   "source": []
  },
  {
   "cell_type": "markdown",
   "id": "fb36672a",
   "metadata": {},
   "source": [
    "## Part 3 - Experiments\n",
    "You could add as many code cells as needed"
   ]
  },
  {
   "cell_type": "code",
   "execution_count": null,
   "id": "bad62163",
   "metadata": {},
   "outputs": [],
   "source": [
    "# Quick EDA plots\n",
    "plt.figure(figsize=(6,4))\n",
    "plt.hist(df['Age'].dropna(), bins=15)\n",
    "plt.title('Age distribution')\n",
    "plt.xlabel('Age')\n",
    "plt.ylabel('Count')\n",
    "plt.show()\n",
    "\n",
    "plt.figure(figsize=(6,4))\n",
    "plt.hist(df['Fare'].dropna(), bins=15)\n",
    "plt.title('Fare distribution')\n",
    "plt.xlabel('Fare')\n",
    "plt.ylabel('Count')\n",
    "plt.show()\n",
    "\n",
    "plt.figure(figsize=(6,4))\n",
    "plt.bar([0,1], df['Survived'].value_counts().loc[[0,1]].values)\n",
    "plt.title('Survival counts (0=dead,1=survived)')\n",
    "plt.xlabel('Survived')\n",
    "plt.ylabel('Count')\n",
    "plt.xticks([0,1])\n",
    "plt.show()\n",
    "\n",
    "pclass_rates = df.groupby('Pclass')['Survived'].mean()\n",
    "plt.figure(figsize=(6,4))\n",
    "plt.bar(pclass_rates.index.astype(str), pclass_rates.values)\n",
    "plt.title('Survival rate by Pclass')\n",
    "plt.xlabel('Pclass')\n",
    "plt.ylabel('Survival rate')\n",
    "plt.show()\n",
    "\n",
    "sex_rates = df.groupby('Sex')['Survived'].mean()\n",
    "plt.figure(figsize=(6,4))\n",
    "plt.bar(sex_rates.index.astype(str), sex_rates.values)\n",
    "plt.title('Survival rate by Sex')\n",
    "plt.xlabel('Sex')\n",
    "plt.ylabel('Survival rate')\n",
    "plt.show()"
   ]
  },
  {
   "cell_type": "code",
   "execution_count": null,
   "id": "b7098585",
   "metadata": {},
   "outputs": [],
   "source": [
    "# Feature engineering\n",
    "df['FamilySize'] = df['SibSp'] + df['Parch']\n",
    "features = ['Pclass','Sex','Age','SibSp','Parch','Fare','Embarked','FamilySize']\n",
    "target = 'Survived'\n",
    "X = df[features].copy()\n",
    "y = df[target].copy()\n",
    "\n",
    "display(X.head())"
   ]
  },
  {
   "cell_type": "code",
   "execution_count": null,
   "id": "097afb02",
   "metadata": {},
   "outputs": [],
   "source": []
  },
  {
   "cell_type": "code",
   "execution_count": null,
   "id": "1fa9ec73",
   "metadata": {},
   "outputs": [],
   "source": []
  },
  {
   "cell_type": "code",
   "execution_count": null,
   "id": "937b653d",
   "metadata": {},
   "outputs": [],
   "source": []
  },
  {
   "cell_type": "code",
   "execution_count": null,
   "id": "678dbf8c-ff53-4b82-80aa-c47c700daab9",
   "metadata": {},
   "outputs": [],
   "source": []
  },
  {
   "cell_type": "code",
   "execution_count": null,
   "id": "cd1151d0-0b4b-441d-965a-77cca0dd894f",
   "metadata": {},
   "outputs": [],
   "source": []
  },
  {
   "cell_type": "code",
   "execution_count": null,
   "id": "b8cf9ff9-e406-4c4a-8330-f1f58645c485",
   "metadata": {},
   "outputs": [],
   "source": []
  },
  {
   "cell_type": "markdown",
   "id": "67d97f11",
   "metadata": {},
   "source": [
    "## Part 4 - Training \n",
    "Use the best combination of feature engineering, model (algorithm and hyperparameters) from the experiment part (part 3)"
   ]
  },
  {
   "cell_type": "code",
   "execution_count": null,
   "id": "93713ead",
   "metadata": {},
   "outputs": [],
   "source": [
    "# Train/Test split (stratified 80/20)\n",
    "X_train, X_test, y_train, y_test = train_test_split(X, y, test_size=0.2, stratify=y, random_state=42)\n",
    "print('Train shape:', X_train.shape, 'Test shape:', X_test.shape)\n",
    "print('\\nTrain target distribution:\\n', y_train.value_counts())\n",
    "print('\\nTest target distribution:\\n', y_test.value_counts())"
   ]
  },
  {
   "cell_type": "code",
   "execution_count": null,
   "id": "c0fc460d",
   "metadata": {},
   "outputs": [],
   "source": []
  },
  {
   "cell_type": "code",
   "execution_count": null,
   "id": "064ad0a0",
   "metadata": {},
   "outputs": [],
   "source": []
  },
  {
   "cell_type": "markdown",
   "id": "259ab902",
   "metadata": {},
   "source": [
    "## Part 5 - Apply on test and show model performance estimation"
   ]
  },
  {
   "cell_type": "code",
   "execution_count": null,
   "id": "d9971aa5",
   "metadata": {},
   "outputs": [],
   "source": [
    "# Preprocessing pipelines\n",
    "numeric_features = ['Age','Fare','SibSp','Parch','FamilySize','Pclass']\n",
    "numeric_transformer = Pipeline(steps=[('imputer', SimpleImputer(strategy='median')), ('scaler', StandardScaler())])\n",
    "\n",
    "categorical_features = ['Sex','Embarked']\n",
    "categorical_transformer = Pipeline(steps=[('imputer', SimpleImputer(strategy='most_frequent')), ('onehot', OneHotEncoder(handle_unknown='ignore'))])\n",
    "\n",
    "preprocessor = ColumnTransformer(transformers=[\n",
    "    ('num', numeric_transformer, numeric_features),\n",
    "    ('cat', categorical_transformer, categorical_features)\n",
    "])"
   ]
  },
  {
   "cell_type": "code",
   "execution_count": null,
   "id": "00d8aa96",
   "metadata": {},
   "outputs": [],
   "source": [
    "# Define pipelines and parameter grids\n",
    "pipe_lr = Pipeline(steps=[('pre', preprocessor), ('clf', LogisticRegression(max_iter=200))])\n",
    "param_grid_lr = {'clf__C': [0.1, 1, 10], 'clf__penalty':['l2']}\n",
    "\n",
    "pipe_rf = Pipeline(steps=[('pre', preprocessor), ('clf', RandomForestClassifier(random_state=42))])\n",
    "param_grid_rf = {'clf__n_estimators': [50,100], 'clf__max_depth': [None,5,10]}\n",
    "\n",
    "cv = StratifiedKFold(n_splits=5, shuffle=True, random_state=42)\n",
    "\n",
    "gs_lr = GridSearchCV(pipe_lr, param_grid_lr, scoring='f1', cv=cv, n_jobs=1, return_train_score=True)\n",
    "gs_rf = GridSearchCV(pipe_rf, param_grid_rf, scoring='f1', cv=cv, n_jobs=1, return_train_score=True)\n",
    "\n",
    "print('Fitting Logistic Regression grid...')\n",
    "gs_lr.fit(X_train, y_train)\n",
    "print('Best LR:', gs_lr.best_params_, 'CV F1:', gs_lr.best_score_)\n",
    "\n",
    "print('\\nFitting Random Forest grid...')\n",
    "gs_rf.fit(X_train, y_train)\n",
    "print('Best RF:', gs_rf.best_params_, 'CV F1:', gs_rf.best_score_)"
   ]
  },
  {
   "cell_type": "code",
   "execution_count": null,
   "id": "149f3181",
   "metadata": {},
   "outputs": [],
   "source": [
    "# Choose best and evaluate on holdout test\n",
    "if gs_lr.best_score_ >= gs_rf.best_score_:\n",
    "    best_model = gs_lr.best_estimator_\n",
    "    best_name = 'LogisticRegression'\n",
    "    best_cv = gs_lr.best_score_\n",
    "else:\n",
    "    best_model = gs_rf.best_estimator_\n",
    "    best_name = 'RandomForest'\n",
    "    best_cv = gs_rf.best_score_\n",
    "\n",
    "print(f'Selected model: {best_name} (CV F1={best_cv:.4f})')\n",
    "\n",
    "y_pred = best_model.predict(X_test)\n",
    "metrics = {\n",
    "    'accuracy': accuracy_score(y_test, y_pred),\n",
    "    'precision': precision_score(y_test, y_pred),\n",
    "    'recall': recall_score(y_test, y_pred),\n",
    "    'f1': f1_score(y_test, y_pred)\n",
    "}\n",
    "print('\\nTest metrics:', metrics)\n",
    "print('\\nClassification report:\\n', classification_report(y_test, y_pred))\n",
    "print('Confusion matrix:\\n', confusion_matrix(y_test, y_pred))\n",
    "\n",
    "# Show first 5 predictions\n",
    "preds = X_test.reset_index(drop=True).copy()\n",
    "preds['true_Survived'] = y_test.reset_index(drop=True)\n",
    "preds['pred_Survived'] = y_pred\n",
    "display(preds.head(5))"
   ]
  },
  {
   "cell_type": "code",
   "execution_count": null,
   "id": "3f1f99c2",
   "metadata": {},
   "outputs": [],
   "source": [
    "# (Optional) Save best model to disk\n",
    "import joblib\n",
    "joblib.dump(best_model, '/mnt/data/titanic_best_model.joblib')"
   ]
  }
 ],
 "metadata": {
  "kernelspec": {
   "display_name": "Python 3 (ipykernel)",
   "language": "python",
   "name": "python3"
  },
  "language_info": {
   "codemirror_mode": {
    "name": "ipython",
    "version": 3
   },
   "file_extension": ".py",
   "mimetype": "text/x-python",
   "name": "python",
   "nbconvert_exporter": "python",
   "pygments_lexer": "ipython3",
   "version": "3.11.9"
  },
  "widgets": {
   "application/vnd.jupyter.widget-state+json": {
    "state": {},
    "version_major": 2,
    "version_minor": 0
   }
  }
 },
 "nbformat": 4,
 "nbformat_minor": 5
}
